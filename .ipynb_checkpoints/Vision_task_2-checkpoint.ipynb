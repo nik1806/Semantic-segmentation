{
 "cells": [
  {
   "cell_type": "markdown",
   "metadata": {
    "colab_type": "text",
    "id": "view-in-github"
   },
   "source": [
    "<a href=\"https://colab.research.google.com/github/nik1806/Semantic-segmentation/blob/master/main.ipynb\" target=\"_parent\"><img src=\"https://colab.research.google.com/assets/colab-badge.svg\" alt=\"Open In Colab\"/></a>"
   ]
  },
  {
   "cell_type": "code",
   "execution_count": 1,
   "metadata": {
    "colab": {
     "base_uri": "https://localhost:8080/"
    },
    "id": "zuklJ8hzEwLs",
    "outputId": "c6424043-8e7e-4da4-fc32-4f80451632e5"
   },
   "outputs": [
    {
     "name": "stdout",
     "output_type": "stream",
     "text": [
      "Mounted at /content/drive\n"
     ]
    }
   ],
   "source": [
    "# mounting google drive\n",
    "# from google.colab import drive\n",
    "# drive.mount('/content/drive', force_remount=True)"
   ]
  },
  {
   "cell_type": "code",
   "execution_count": 2,
   "metadata": {
    "id": "JDOrGbbpFJZf"
   },
   "outputs": [],
   "source": [
    "# Load the data and organizing it \n",
    "# root_dir = 'drive/My Drive/'\n",
    "# data_dir = root_dir + 'NN_pro_data'"
   ]
  },
  {
   "cell_type": "code",
   "execution_count": 3,
   "metadata": {
    "id": "jPkjKXMJFVKc"
   },
   "outputs": [],
   "source": [
    "# change directory\n",
    "# import os\n",
    "# os.chdir(data_dir)\n",
    "# !ls"
   ]
  },
  {
   "cell_type": "code",
   "execution_count": 4,
   "metadata": {
    "id": "OgVWoPKwGUjD"
   },
   "outputs": [],
   "source": [
    "# unzip data \n",
    "#!unzip gtFine_trainvaltest.zip\n",
    "# !unzip leftImg8bit_trainvaltest.zip"
   ]
  },
  {
   "cell_type": "code",
   "execution_count": 1,
   "metadata": {
    "colab": {
     "base_uri": "https://localhost:8080/"
    },
    "id": "zSuaMW1rHtRr",
    "outputId": "391599b2-aac9-4d4b-95a5-a5ce9d9aa7a3"
   },
   "outputs": [],
   "source": [
    "# !ls"
   ]
  },
  {
   "cell_type": "code",
   "execution_count": 2,
   "metadata": {
    "id": "QKQD0uCZKq49"
   },
   "outputs": [],
   "source": [
    "# Insert the directory - FOR importing user-defined modules/packages\n",
    "# import sys\n",
    "# sys.path.insert(0,'/content/drive/My Drive/Semantic-segmentation')"
   ]
  },
  {
   "cell_type": "markdown",
   "metadata": {},
   "source": [
    "### Import libraries"
   ]
  },
  {
   "cell_type": "code",
   "execution_count": 2,
   "metadata": {
    "id": "XJxgW61OEosh"
   },
   "outputs": [],
   "source": [
    "# from dataset import cityscapes_train\n",
    "# from dataset import cityscapes_val\n",
    "from torchvision import transforms\n",
    "from torchvision.datasets import Cityscapes\n",
    "import numpy as np\n",
    "import torch\n",
    "import torchvision.transforms.functional as TF\n",
    "import random\n",
    "from matplotlib import pyplot as plt\n",
    "from torch.utils.data import DataLoader"
   ]
  },
  {
   "cell_type": "markdown",
   "metadata": {
    "id": "KmfX_R7nEosv"
   },
   "source": [
    "### Dataset reader and dataloader"
   ]
  },
  {
   "cell_type": "code",
   "execution_count": 3,
   "metadata": {
    "id": "tw7FK90KEosv"
   },
   "outputs": [],
   "source": [
    "from utils.custom_transforms import pair_transform_train, pair_transform_val\n",
    "data_dir = '../datasets/cityscapes/'"
   ]
  },
  {
   "cell_type": "code",
   "execution_count": 4,
   "metadata": {
    "id": "Bm5yK9XXhKpH"
   },
   "outputs": [],
   "source": [
    "dst_train = Cityscapes(data_dir, split='train', mode='fine', target_type='semantic', transforms=pair_transform_train) # data_dir\n",
    "dst_val = Cityscapes(data_dir, split='val', mode='fine', target_type='semantic', transforms=pair_transform_val)"
   ]
  },
  {
   "cell_type": "code",
   "execution_count": 5,
   "metadata": {
    "colab": {
     "base_uri": "https://localhost:8080/"
    },
    "id": "ZtUHjgtXEosw",
    "outputId": "cf808bc6-9708-4863-ee87-f816b6e5f20b"
   },
   "outputs": [
    {
     "name": "stdout",
     "output_type": "stream",
     "text": [
      "2975\n",
      "500\n"
     ]
    }
   ],
   "source": [
    "# data length\n",
    "length_train = len(dst_train)\n",
    "length_val = len(dst_val)\n",
    "print(length_train)\n",
    "print(length_val)"
   ]
  },
  {
   "cell_type": "code",
   "execution_count": 7,
   "metadata": {
    "id": "p7nQlQAWNxeV"
   },
   "outputs": [],
   "source": [
    "from utils.custom_transforms import unNormalize"
   ]
  },
  {
   "cell_type": "code",
   "execution_count": 8,
   "metadata": {
    "colab": {
     "base_uri": "https://localhost:8080/",
     "height": 320
    },
    "id": "V62GG61ENbfb",
    "outputId": "f76ef3fe-91f4-4b11-8a36-fd49b4ebf64e"
   },
   "outputs": [
    {
     "ename": "NameError",
     "evalue": "name 'transforms' is not defined",
     "output_type": "error",
     "traceback": [
      "\u001b[0;31m---------------------------------------------------------------------------\u001b[0m",
      "\u001b[0;31mNameError\u001b[0m                                 Traceback (most recent call last)",
      "\u001b[0;32m<ipython-input-8-f9081d50f763>\u001b[0m in \u001b[0;36m<module>\u001b[0;34m\u001b[0m\n\u001b[1;32m      2\u001b[0m \u001b[0;34m\u001b[0m\u001b[0m\n\u001b[1;32m      3\u001b[0m \u001b[0;31m# img, segmap = dst_train[16]\u001b[0m\u001b[0;34m\u001b[0m\u001b[0;34m\u001b[0m\u001b[0;34m\u001b[0m\u001b[0m\n\u001b[0;32m----> 4\u001b[0;31m \u001b[0mimg\u001b[0m\u001b[0;34m,\u001b[0m \u001b[0msegmap\u001b[0m \u001b[0;34m=\u001b[0m \u001b[0mdst_val\u001b[0m\u001b[0;34m[\u001b[0m\u001b[0;36m20\u001b[0m\u001b[0;34m]\u001b[0m\u001b[0;34m\u001b[0m\u001b[0;34m\u001b[0m\u001b[0m\n\u001b[0m\u001b[1;32m      5\u001b[0m \u001b[0;34m\u001b[0m\u001b[0m\n\u001b[1;32m      6\u001b[0m \u001b[0mfig\u001b[0m \u001b[0;34m=\u001b[0m \u001b[0mplt\u001b[0m\u001b[0;34m.\u001b[0m\u001b[0mfigure\u001b[0m\u001b[0;34m(\u001b[0m\u001b[0mfigsize\u001b[0m\u001b[0;34m=\u001b[0m\u001b[0;34m(\u001b[0m\u001b[0;36m10\u001b[0m\u001b[0;34m,\u001b[0m \u001b[0;36m7\u001b[0m\u001b[0;34m)\u001b[0m\u001b[0;34m)\u001b[0m\u001b[0;34m\u001b[0m\u001b[0;34m\u001b[0m\u001b[0m\n",
      "\u001b[0;32m/opt/conda/lib/python3.8/site-packages/torchvision/datasets/cityscapes.py\u001b[0m in \u001b[0;36m__getitem__\u001b[0;34m(self, index)\u001b[0m\n\u001b[1;32m    190\u001b[0m \u001b[0;34m\u001b[0m\u001b[0m\n\u001b[1;32m    191\u001b[0m         \u001b[0;32mif\u001b[0m \u001b[0mself\u001b[0m\u001b[0;34m.\u001b[0m\u001b[0mtransforms\u001b[0m \u001b[0;32mis\u001b[0m \u001b[0;32mnot\u001b[0m \u001b[0;32mNone\u001b[0m\u001b[0;34m:\u001b[0m\u001b[0;34m\u001b[0m\u001b[0;34m\u001b[0m\u001b[0m\n\u001b[0;32m--> 192\u001b[0;31m             \u001b[0mimage\u001b[0m\u001b[0;34m,\u001b[0m \u001b[0mtarget\u001b[0m \u001b[0;34m=\u001b[0m \u001b[0mself\u001b[0m\u001b[0;34m.\u001b[0m\u001b[0mtransforms\u001b[0m\u001b[0;34m(\u001b[0m\u001b[0mimage\u001b[0m\u001b[0;34m,\u001b[0m \u001b[0mtarget\u001b[0m\u001b[0;34m)\u001b[0m\u001b[0;34m\u001b[0m\u001b[0;34m\u001b[0m\u001b[0m\n\u001b[0m\u001b[1;32m    193\u001b[0m \u001b[0;34m\u001b[0m\u001b[0m\n\u001b[1;32m    194\u001b[0m         \u001b[0;32mreturn\u001b[0m \u001b[0mimage\u001b[0m\u001b[0;34m,\u001b[0m \u001b[0mtarget\u001b[0m\u001b[0;34m\u001b[0m\u001b[0;34m\u001b[0m\u001b[0m\n",
      "\u001b[0;32m/nn_project/utils/custom_transforms.py\u001b[0m in \u001b[0;36mpair_transform_val\u001b[0;34m(image, target)\u001b[0m\n\u001b[1;32m    100\u001b[0m     \"\"\"\n\u001b[1;32m    101\u001b[0m     \u001b[0;31m# transformation for performing augmentation\u001b[0m\u001b[0;34m\u001b[0m\u001b[0;34m\u001b[0m\u001b[0;34m\u001b[0m\u001b[0m\n\u001b[0;32m--> 102\u001b[0;31m     \u001b[0mresize\u001b[0m \u001b[0;34m=\u001b[0m \u001b[0mtransforms\u001b[0m\u001b[0;34m.\u001b[0m\u001b[0mResize\u001b[0m\u001b[0;34m(\u001b[0m\u001b[0msize\u001b[0m\u001b[0;34m=\u001b[0m\u001b[0;34m(\u001b[0m\u001b[0;36m256\u001b[0m\u001b[0;34m,\u001b[0m \u001b[0;36m256\u001b[0m\u001b[0;34m)\u001b[0m\u001b[0;34m)\u001b[0m\u001b[0;34m\u001b[0m\u001b[0;34m\u001b[0m\u001b[0m\n\u001b[0m\u001b[1;32m    103\u001b[0m     \u001b[0mimage\u001b[0m \u001b[0;34m=\u001b[0m \u001b[0mresize\u001b[0m\u001b[0;34m(\u001b[0m\u001b[0mimage\u001b[0m\u001b[0;34m)\u001b[0m\u001b[0;34m\u001b[0m\u001b[0;34m\u001b[0m\u001b[0m\n\u001b[1;32m    104\u001b[0m     \u001b[0mtarget\u001b[0m \u001b[0;34m=\u001b[0m \u001b[0mresize\u001b[0m\u001b[0;34m(\u001b[0m\u001b[0mtarget\u001b[0m\u001b[0;34m)\u001b[0m\u001b[0;34m\u001b[0m\u001b[0;34m\u001b[0m\u001b[0m\n",
      "\u001b[0;31mNameError\u001b[0m: name 'transforms' is not defined"
     ]
    }
   ],
   "source": [
    "# Verifying transformations (Especially consistancy among image and segmentation map)\n",
    "\n",
    "# img, segmap = dst_train[16]\n",
    "img, segmap = dst_val[20]\n",
    "\n",
    "fig = plt.figure(figsize=(10, 7))\n",
    "\n",
    "fig.add_subplot(1,2,1)\n",
    "img = img.data.numpy() # data in image and current form of matrix\n",
    "img = unNormalize(img, [0.485, 0.456, 0.406], [0.229, 0.224, 0.225]) # unNormalize\n",
    "img = img.transpose((1,2,0)).astype(np.uint8) # change dtype to correct format for display\n",
    "plt.title('Original')\n",
    "plt.imshow(img) # original\n",
    "plt.axis('off')\n",
    "\n",
    "# ground truth\n",
    "fig.add_subplot(1, 2, 2)\n",
    "label = segmap.data.numpy() # data in image and current form of matrix\n",
    "# label = decode_segmap(label)\n",
    "plt.title('Ground truth')\n",
    "plt.imshow(label) \n",
    "plt.axis('off')"
   ]
  },
  {
   "cell_type": "code",
   "execution_count": 8,
   "metadata": {
    "id": "WwHWIGqfEosy"
   },
   "outputs": [],
   "source": [
    "bs = 12\n",
    "#Dataloaders\n",
    "train_loader = DataLoader(dst_train, batch_size=bs, shuffle=True)\n",
    "val_loader = DataLoader(dst_val, batch_size=bs,shuffle=True)"
   ]
  },
  {
   "cell_type": "code",
   "execution_count": 9,
   "metadata": {
    "id": "CUGPTBncEosy"
   },
   "outputs": [],
   "source": [
    "# dataiter = iter(train_loader)\n",
    "# #print(dataiter.next())\n",
    "# (images, labels) = dataiter.next()\n",
    "\n",
    "# dataiter_val = iter(val_loader)\n",
    "# (images_val, labels_val) = dataiter_val.next()"
   ]
  },
  {
   "cell_type": "code",
   "execution_count": 10,
   "metadata": {
    "colab": {
     "base_uri": "https://localhost:8080/"
    },
    "id": "F3ry4afLWkDn",
    "outputId": "00417477-8812-48d0-8589-8aaaf01033e1"
   },
   "outputs": [],
   "source": [
    "# labels_val.shape"
   ]
  },
  {
   "cell_type": "code",
   "execution_count": 11,
   "metadata": {
    "id": "aVmKFCxjEosy"
   },
   "outputs": [],
   "source": [
    "from models.networkT2 import R2UNet"
   ]
  },
  {
   "cell_type": "code",
   "execution_count": 12,
   "metadata": {
    "id": "-CTFTCLoEosz"
   },
   "outputs": [],
   "source": [
    "import torch\n",
    "criterion = torch.nn.CrossEntropyLoss()\n",
    "device = torch.device(\"cuda:6\")\n",
    "model = R2UNet(in_channels=3,n_classes=34).to(device)"
   ]
  },
  {
   "cell_type": "markdown",
   "metadata": {},
   "source": [
    "### Hyper parameters"
   ]
  },
  {
   "cell_type": "code",
   "execution_count": 13,
   "metadata": {},
   "outputs": [],
   "source": [
    "epochs = 5\n",
    "lr = 5e-4\n",
    "wdk = 1e-4"
   ]
  },
  {
   "cell_type": "code",
   "execution_count": 14,
   "metadata": {
    "id": "-vj_jdjgEosz"
   },
   "outputs": [],
   "source": [
    "from torch.optim import SGD, Adam, lr_scheduler\n",
    "\n",
    "optimizer = Adam(model.parameters(), lr, (0.9, 0.999),  eps=1e-08, weight_decay=wdk) "
   ]
  },
  {
   "cell_type": "markdown",
   "metadata": {},
   "source": [
    "### Training model"
   ]
  },
  {
   "cell_type": "code",
   "execution_count": 15,
   "metadata": {
    "colab": {
     "base_uri": "https://localhost:8080/"
    },
    "id": "X9tMY3mBEosz",
    "outputId": "15a6c38f-e50d-44d1-efe7-e24cfd624505",
    "tags": []
   },
   "outputs": [
    {
     "name": "stdout",
     "output_type": "stream",
     "text": [
      "epoch0, iter0, loss: 0.30209028720855713\n",
      "epoch0, iter30, loss: 0.18021771728351552\n",
      "epoch0, iter60, loss: 0.14946747787011777\n",
      "epoch0, iter90, loss: 0.13510761057937537\n",
      "epoch0, iter120, loss: 0.1258683191514869\n",
      "epoch0, iter150, loss: 0.11987257428121882\n",
      "epoch0, iter180, loss: 0.11525465578224997\n",
      "epoch0, iter210, loss: 0.1117223360433021\n",
      "epoch0, iter240, loss: 0.10862570623886536\n",
      "epoch0, loss: 1.5426226542109536\n",
      "epoch1, iter0, loss: 0.07638131082057953\n",
      "epoch1, iter30, loss: 0.08393698786535571\n",
      "epoch1, iter60, loss: 0.0842779601206545\n",
      "epoch1, iter90, loss: 0.08332537158286615\n",
      "epoch1, iter120, loss: 0.08250680635619098\n",
      "epoch1, iter150, loss: 0.0822072449504145\n",
      "epoch1, iter180, loss: 0.08130340741923281\n",
      "epoch1, iter210, loss: 0.08115670475726255\n",
      "epoch1, iter240, loss: 0.0805549267293012\n",
      "epoch1, loss: 1.4342395549728757\n",
      "epoch2, iter0, loss: 0.07514235874017079\n",
      "epoch2, iter30, loss: 0.0733431758739615\n",
      "epoch2, iter60, loss: 0.07470656654548125\n",
      "epoch2, iter90, loss: 0.0746191973105455\n",
      "epoch2, iter120, loss: 0.07489967526811542\n",
      "epoch2, iter150, loss: 0.07487971873472858\n",
      "epoch2, iter180, loss: 0.0751837307576975\n",
      "epoch2, iter210, loss: 0.07494879785872184\n",
      "epoch2, iter240, loss: 0.07391738784428618\n",
      "epoch2, loss: 1.201227883497874\n",
      "epoch3, iter0, loss: 0.07421338558197021\n",
      "epoch3, iter30, loss: 0.07062938553030773\n",
      "epoch3, iter60, loss: 0.06980400959976384\n",
      "epoch3, iter90, loss: 0.0704713993238442\n",
      "epoch3, iter120, loss: 0.07019013987428228\n",
      "epoch3, iter150, loss: 0.06997585566364903\n",
      "epoch3, iter180, loss: 0.06936247959650682\n",
      "epoch3, iter210, loss: 0.06910401441474662\n",
      "epoch3, iter240, loss: 0.06914507606959441\n",
      "epoch3, loss: 1.2492315513747079\n",
      "epoch4, iter0, loss: 0.0696570227543513\n",
      "epoch4, iter30, loss: 0.0665001053643483\n",
      "epoch4, iter60, loss: 0.06521577343263261\n",
      "epoch4, iter90, loss: 0.0659904366993642\n",
      "epoch4, iter120, loss: 0.06559653773123895\n",
      "epoch4, iter150, loss: 0.0657126269329989\n",
      "epoch4, iter180, loss: 0.06581413770578184\n",
      "epoch4, iter210, loss: 0.06585287205039231\n",
      "epoch4, iter240, loss: 0.06562727912333002\n",
      "epoch4, loss: 1.2488158969652086\n"
     ]
    }
   ],
   "source": [
    "loss_train = []\n",
    "loss_val = []\n",
    "\n",
    "for epoch in range(epochs):\n",
    "    #Training\n",
    "    model.train()\n",
    "    running_loss = 0\n",
    "\n",
    "    for i, (images, labels) in enumerate(train_loader):\n",
    "        inputs = images.to(device)\n",
    "        labels = labels.to(device)\n",
    "        # labels = labels.squeeze(1)\n",
    "        optimizer.zero_grad()\n",
    "        outputs = model(inputs)\n",
    "\n",
    "        #loss = criterion(outputs,targets[:,0])\n",
    "        #loss = criterion(outputs,labels[:,0].long())\n",
    "        # loss = criterion(outputs,labels.long())\n",
    "        loss = criterion(outputs, labels)\n",
    "\n",
    "        loss.backward()\n",
    "        optimizer.step()\n",
    "        ###accumulating loss for each batch\n",
    "        running_loss += loss.item()\n",
    "\n",
    "        if i%30 == 0:\n",
    "            print(\"epoch{}, iter{}, loss: {}\".format(epoch, i, running_loss/(bs*(i+1))))\n",
    "                  \n",
    "    loss_train.append(running_loss/len(train_loader))\n",
    "\n",
    "    # print(\"epoch{}, loss: {}\".format(epoch, running_loss))\n",
    "    torch.save(model.state_dict(), f'weights/T2/epoch_{epoch}.pth')\n",
    "\n",
    "    #Validation\n",
    "    model.eval()\n",
    "    running_loss_val = 0\n",
    "    for i, (images, labels) in enumerate(val_loader):\n",
    "        inputs = images.to(device)\n",
    "        labels = labels.to(device)\n",
    "        # labels = labels.squeeze(1)\n",
    "             \n",
    "        with torch.no_grad(): \n",
    "            outputs = model(inputs)\n",
    "            # loss = criterion(outputs,labels.long())\n",
    "            loss = criterion(outputs,labels)\n",
    "\n",
    "            ###accumulating loss for each batch\n",
    "            running_loss_val += loss.item()\n",
    "\n",
    "\n",
    "        #if i%10 == 0:\n",
    "    loss_val.append(running_loss_val/len(val_loader))\n",
    "    print(\"epoch{}, loss: {}\".format(epoch, running_loss_val/len(val_loader)))\n"
   ]
  },
  {
   "cell_type": "code",
   "execution_count": 16,
   "metadata": {
    "id": "O26vshFlEos0",
    "outputId": "409ca9b6-012c-4735-d682-f5e74a7afee6"
   },
   "outputs": [
    {
     "data": {
      "image/png": "[encoded data removed]",
      "text/plain": [
       "<Figure size 432x288 with 1 Axes>"
      ]
     },
     "metadata": {
      "needs_background": "light"
     },
     "output_type": "display_data"
    },
    {
     "data": {
      "text/plain": [
       "<Figure size 432x288 with 0 Axes>"
      ]
     },
     "metadata": {},
     "output_type": "display_data"
    }
   ],
   "source": [
    "# x = [i for i in range(len(train_loader))]\n",
    "X = range(epochs)\n",
    "plt.title(\"Plot showing training and validation loss against number of epochs\")\n",
    "plt.xlabel(\"Number of epochs\")\n",
    "plt.ylabel(\"Loss\")\n",
    "plt.plot(np.arange(len(loss_train)), loss_train, color='b', label='Training loss')\n",
    "plt.plot(np.arange(len(loss_val)), loss_val, color='r', label='Validation loss')\n",
    "plt.legend()\n",
    "plt.savefig('results/T2_loss_curves.png', bbox_inches='tight')\n",
    "plt.show()\n",
    "# plt.plot()"
   ]
  },
  {
   "cell_type": "code",
   "execution_count": null,
   "metadata": {
    "id": "KJJsiFQhEos1"
   },
   "outputs": [],
   "source": []
  }
 ],
 "metadata": {
  "accelerator": "GPU",
  "colab": {
   "collapsed_sections": [],
   "include_colab_link": true,
   "name": "Copy of main.ipynb",
   "provenance": []
  },
  "kernelspec": {
   "display_name": "Python 3",
   "language": "python",
   "name": "python3"
  },
  "language_info": {
   "codemirror_mode": {
    "name": "ipython",
    "version": 3
   },
   "file_extension": ".py",
   "mimetype": "text/x-python",
   "name": "python",
   "nbconvert_exporter": "python",
   "pygments_lexer": "ipython3",
   "version": "3.8.5"
  }
 },
 "nbformat": 4,
 "nbformat_minor": 1
}
