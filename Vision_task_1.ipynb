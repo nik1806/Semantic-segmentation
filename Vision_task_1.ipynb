{
 "cells": [
  {
   "cell_type": "markdown",
   "metadata": {
    "colab_type": "text",
    "id": "view-in-github"
   },
   "source": [
    "<a href=\"https://colab.research.google.com/github/nik1806/Semantic-segmentation/blob/master/Vision_task_1.ipynb\" target=\"_parent\"><img src=\"https://colab.research.google.com/assets/colab-badge.svg\" alt=\"Open In Colab\"/></a>"
   ]
  },
  {
   "cell_type": "markdown",
   "metadata": {
    "id": "GqryU0Zkgr2L"
   },
   "source": [
    "# Image Segmentation Task 1\n",
    "#### Welcome to the first task of Image Segmentation. Image segmentation is the process of partitioning the image into a set of pixels representing an object. In this task, you will be introduced to the problem of image segmentation and programming pipeline involved in image segmentation."
   ]
  },
  {
   "cell_type": "markdown",
   "metadata": {
    "id": "yuWYYCszgr2j"
   },
   "source": [
    "For the purpose of this task we will be using PASCAL VOC datset. The dataset contains a total of 2913 images with segmentation annotations. Code in the cell below will download the code and extract the dataset."
   ]
  },
  {
   "cell_type": "code",
   "execution_count": 1,
   "metadata": {
    "colab": {
     "base_uri": "https://localhost:8080/"
    },
    "id": "zM_t4c-S3k31",
    "outputId": "993a5f16-03f5-4db5-f058-c9421e38d022",
    "scrolled": true,
    "tags": []
   },
   "outputs": [],
   "source": [
    "# !wget http://host.robots.ox.ac.uk/pascal/VOC/voc2012/VOCtrainval_11-May-2012.tar\n",
    "# !tar -xvf VOCtrainval_11-May-2012.tar"
   ]
  },
  {
   "cell_type": "code",
   "execution_count": 2,
   "metadata": {
    "colab": {
     "base_uri": "https://localhost:8080/"
    },
    "id": "6lvs9XIpBaI0",
    "outputId": "046f45e4-c235-4255-8694-978b4c8b08d5"
   },
   "outputs": [],
   "source": [
    "# !pip install scipy==1.1.0"
   ]
  },
  {
   "cell_type": "markdown",
   "metadata": {
    "id": "ggF1hZ6Vgr2n"
   },
   "source": [
    "### 1.1 Loading the dataset"
   ]
  },
  {
   "cell_type": "code",
   "execution_count": 3,
   "metadata": {
    "id": "qunDv45j24Mg"
   },
   "outputs": [],
   "source": [
    "import os\n",
    "from os.path import join as pjoin\n",
    "import collections\n",
    "import json\n",
    "import torch\n",
    "import imageio\n",
    "import numpy as np\n",
    "import scipy.misc as m\n",
    "import scipy.io as io\n",
    "import matplotlib.pyplot as plt\n",
    "import glob\n",
    "\n",
    "from PIL import Image\n",
    "from tqdm import tqdm\n",
    "from torch.utils import data\n",
    "from torchvision import transforms\n",
    "\n",
    "\n",
    "class pascalVOCDataset(data.Dataset):\n",
    "    \"\"\"Data loader for the Pascal VOC semantic segmentation dataset.\n",
    "\n",
    "    Annotations from both the original VOC data (which consist of RGB images\n",
    "    in which colours map to specific classes) and the SBD (Berkely) dataset\n",
    "    (where annotations are stored as .mat files) are converted into a common\n",
    "    `label_mask` format.  Under this format, each mask is an (M,N) array of\n",
    "    integer values from 0 to 21, where 0 represents the background class.\n",
    "\n",
    "    The label masks are stored in a new folder, called `pre_encoded`, which\n",
    "    is added as a subdirectory of the `SegmentationClass` folder in the\n",
    "    original Pascal VOC data layout.\n",
    "\n",
    "    A total of five data splits are provided for working with the VOC data:\n",
    "        train: The original VOC 2012 training data - 1464 images\n",
    "        val: The original VOC 2012 validation data - 1449 images\n",
    "        trainval: The combination of `train` and `val` - 2913 images\n",
    "        train_aug: The unique images present in both the train split and\n",
    "                   training images from SBD: - 8829 images (the unique members\n",
    "                   of the result of combining lists of length 1464 and 8498)\n",
    "        train_aug_val: The original VOC 2012 validation data minus the images\n",
    "                   present in `train_aug` (This is done with the same logic as\n",
    "                   the validation set used in FCN PAMI paper, but with VOC 2012\n",
    "                   rather than VOC 2011) - 904 images\n",
    "    \"\"\"\n",
    "\n",
    "    def __init__(\n",
    "        self,\n",
    "        root,\n",
    "        sbd_path=None,\n",
    "        split=\"train_aug\",\n",
    "        is_transform=False,\n",
    "        img_size=512,\n",
    "        augmentations=None,\n",
    "        img_norm=True,\n",
    "        test_mode=False,\n",
    "    ):\n",
    "        self.root = root\n",
    "        self.sbd_path = sbd_path\n",
    "        self.split = split\n",
    "        self.is_transform = is_transform\n",
    "        self.augmentations = augmentations\n",
    "        self.img_norm = img_norm\n",
    "        self.test_mode = test_mode\n",
    "        self.n_classes = 21\n",
    "        self.mean = np.array([104.00699, 116.66877, 122.67892])\n",
    "        self.files = collections.defaultdict(list)\n",
    "        self.img_size = img_size if isinstance(img_size, tuple) else (img_size, img_size)\n",
    "\n",
    "        if not self.test_mode:\n",
    "            for split in [\"train\", \"val\", \"trainval\"]:\n",
    "                path = pjoin(self.root, \"ImageSets/Segmentation\", split + \".txt\")\n",
    "                file_list = tuple(open(path, \"r\"))\n",
    "                file_list = [id_.rstrip() for id_ in file_list]\n",
    "                self.files[split] = file_list\n",
    "            self.setup_annotations()\n",
    "\n",
    "        self.tf = transforms.Compose(\n",
    "            [\n",
    "                # add more trasnformations as you see fit\n",
    "                transforms.ToTensor(),\n",
    "                transforms.Normalize([0.485, 0.456, 0.406], [0.229, 0.224, 0.225]),\n",
    "            ]\n",
    "        )\n",
    "\n",
    "    def __len__(self):\n",
    "        return len(self.files[self.split])\n",
    "\n",
    "    def __getitem__(self, index):\n",
    "        im_name = self.files[self.split][index]\n",
    "        im_path = pjoin(self.root, \"JPEGImages\", im_name + \".jpg\")\n",
    "        lbl_path = pjoin(self.root, \"SegmentationClass/pre_encoded\", im_name + \".png\")\n",
    "        im = Image.open(im_path)\n",
    "        lbl = Image.open(lbl_path)\n",
    "        if self.augmentations is not None:\n",
    "            im, lbl = self.augmentations(im, lbl)\n",
    "        if self.is_transform:\n",
    "            im, lbl = self.transform(im, lbl)\n",
    "        return im, torch.clamp(lbl, max=20)\n",
    "\n",
    "    def transform(self, img, lbl):\n",
    "        if self.img_size == (\"same\", \"same\"):\n",
    "            pass\n",
    "        else:\n",
    "            img = img.resize((self.img_size[0], self.img_size[1]))  # uint8 with RGB mode\n",
    "            lbl = lbl.resize((self.img_size[0], self.img_size[1]))\n",
    "        img = self.tf(img)\n",
    "        lbl = torch.from_numpy(np.array(lbl)).long()\n",
    "        lbl[lbl == 255] = 0\n",
    "        return img, lbl\n",
    "\n",
    "    def get_pascal_labels(self):\n",
    "        \"\"\"Load the mapping that associates pascal classes with label colors\n",
    "\n",
    "        Returns:\n",
    "            np.ndarray with dimensions (21, 3)\n",
    "        \"\"\"\n",
    "        return np.asarray(\n",
    "            [\n",
    "                [0, 0, 0],\n",
    "                [128, 0, 0],\n",
    "                [0, 128, 0],\n",
    "                [128, 128, 0],\n",
    "                [0, 0, 128],\n",
    "                [128, 0, 128],\n",
    "                [0, 128, 128],\n",
    "                [128, 128, 128],\n",
    "                [64, 0, 0],\n",
    "                [192, 0, 0],\n",
    "                [64, 128, 0],\n",
    "                [192, 128, 0],\n",
    "                [64, 0, 128],\n",
    "                [192, 0, 128],\n",
    "                [64, 128, 128],\n",
    "                [192, 128, 128],\n",
    "                [0, 64, 0],\n",
    "                [128, 64, 0],\n",
    "                [0, 192, 0],\n",
    "                [128, 192, 0],\n",
    "                [0, 64, 128],\n",
    "            ]\n",
    "        )\n",
    "\n",
    "    def encode_segmap(self, mask):\n",
    "        \"\"\"Encode segmentation label images as pascal classes\n",
    "\n",
    "        Args:\n",
    "            mask (np.ndarray): raw segmentation label image of dimension\n",
    "              (M, N, 3), in which the Pascal classes are encoded as colours.\n",
    "\n",
    "        Returns:\n",
    "            (np.ndarray): class map with dimensions (M,N), where the value at\n",
    "            a given location is the integer denoting the class index.\n",
    "        \"\"\"\n",
    "        mask = mask.astype(int)\n",
    "        label_mask = np.zeros((mask.shape[0], mask.shape[1]), dtype=np.int16)\n",
    "        for ii, label in enumerate(self.get_pascal_labels()):\n",
    "            label_mask[np.where(np.all(mask == label, axis=-1))[:2]] = ii\n",
    "        label_mask = label_mask.astype(int)\n",
    "        # print(np.unique(label_mask))\n",
    "        return label_mask\n",
    "\n",
    "    def decode_segmap(self, label_mask, plot=False):\n",
    "        \"\"\"Decode segmentation class labels into a color image\n",
    "\n",
    "        Args:\n",
    "            label_mask (np.ndarray): an (M,N) array of integer values denoting\n",
    "              the class label at each spatial location.\n",
    "            plot (bool, optional): whether to show the resulting color image\n",
    "              in a figure.\n",
    "\n",
    "        Returns:\n",
    "            (np.ndarray, optional): the resulting decoded color image.\n",
    "        \"\"\"\n",
    "        label_colours = self.get_pascal_labels()\n",
    "        r = label_mask.copy()\n",
    "        g = label_mask.copy()\n",
    "        b = label_mask.copy()\n",
    "        for ll in range(0, self.n_classes):\n",
    "            r[label_mask == ll] = label_colours[ll, 0]\n",
    "            g[label_mask == ll] = label_colours[ll, 1]\n",
    "            b[label_mask == ll] = label_colours[ll, 2]\n",
    "        rgb = np.zeros((label_mask.shape[0], label_mask.shape[1], 3))\n",
    "        rgb[:, :, 0] = r / 255.0\n",
    "        rgb[:, :, 1] = g / 255.0\n",
    "        rgb[:, :, 2] = b / 255.0\n",
    "        if plot:\n",
    "            plt.imshow(rgb)\n",
    "            plt.show()\n",
    "        else:\n",
    "            return rgb\n",
    "\n",
    "    def setup_annotations(self):\n",
    "        \"\"\"Sets up Berkley annotations by adding image indices to the\n",
    "        `train_aug` split and pre-encode all segmentation labels into the\n",
    "        common label_mask format (if this has not already been done). This\n",
    "        function also defines the `train_aug` and `train_aug_val` data splits\n",
    "        according to the description in the class docstring\n",
    "        \"\"\"\n",
    "        sbd_path = self.sbd_path\n",
    "        target_path = pjoin(self.root, \"SegmentationClass/pre_encoded\")\n",
    "        if not os.path.exists(target_path):\n",
    "            os.makedirs(target_path)\n",
    "        train_aug = self.files[\"train\"]\n",
    "\n",
    "        # keep unique elements (stable)\n",
    "        train_aug = [train_aug[i] for i in sorted(np.unique(train_aug, return_index=True)[1])]\n",
    "        self.files[\"train_aug\"] = train_aug\n",
    "        set_diff = set(self.files[\"val\"]) - set(train_aug)  # remove overlap\n",
    "        self.files[\"train_aug_val\"] = list(set_diff)\n",
    "\n",
    "        pre_encoded = glob.glob(pjoin(target_path, \"*.png\"))\n",
    "        expected = np.unique(self.files[\"train_aug\"] + self.files[\"val\"]).size\n",
    "\n",
    "        if len(pre_encoded) != expected:\n",
    "            print(\"Pre-encoding segmentation masks...\")\n",
    "\n",
    "            for ii in tqdm(self.files[\"trainval\"]):\n",
    "                fname = ii + \".png\"\n",
    "                lbl_path = pjoin(self.root, \"SegmentationClass\", fname)\n",
    "                lbl = self.encode_segmap(m.imread(lbl_path))\n",
    "                lbl = m.toimage(lbl, high=lbl.max(), low=lbl.min())\n",
    "                m.imsave(pjoin(target_path, fname), lbl)\n",
    "\n",
    "        assert expected == 2913, \"unexpected dataset sizes\""
   ]
  },
  {
   "cell_type": "markdown",
   "metadata": {
    "id": "O34skJ8pgr2u"
   },
   "source": [
    "### 1.2 Define the model architecture(2.0 point)\n",
    "In this section you have the freedom to decide your own model. Keep in mind though, to perform image segmentation, you need to implement an architecture that does pixel level classification i.e. for each pixel in the image you need to predict the probability of it belonging to one of the 21 categories."
   ]
  },
  {
   "cell_type": "code",
   "execution_count": 4,
   "metadata": {
    "id": "CatAsvH3GTXs"
   },
   "outputs": [],
   "source": [
    "import torch.nn as nn\n",
    "from torchvision.models import segmentation\n",
    "\n",
    "class Segnet(nn.Module):\n",
    "  \n",
    "  def __init__(self):\n",
    "    \"\"\"\n",
    "      Using fully-convolutional network with resnet101 as backbone. FCN are very successful in segmentation tasks (SUPPORT BY PAPER)\n",
    "      We use pretrained layers on COCO dataset here, it will improve the performace and train faster with less data (advantages of transfer       learning).\n",
    "    \"\"\"\n",
    "    super(Segnet, self).__init__()\n",
    "    #define the layers for your model\n",
    "    self.fcn = segmentation.fcn_resnet101(pretrained=True)\n",
    "    \n",
    "\n",
    "  def forward(self, x):\n",
    "    #define the forward pass\n",
    "    out = self.fcn(x)\n",
    "    return out \n",
    "    "
   ]
  },
  {
   "cell_type": "code",
   "execution_count": 5,
   "metadata": {
    "colab": {
     "base_uri": "https://localhost:8080/",
     "height": 157,
     "referenced_widgets": [
      "6dc48abab91f41e38a03efc97fc88f5a",
      "b69f7c47a904498986d106e1bf36d926",
      "b4e581c1ceb9408790f30b96cff73f99",
      "ba09c1085fa74be4a05eced774156f7a",
      "b5680358c1e74addbddab3e381c36019",
      "58c5855440754107a3706f941d83e0f4",
      "e4d9fd672c704905a9a13c7d930dbad8",
      "d506f02006a648639ab6619118be8db1",
      "e91dacd227004bfbb066cd835e22afd3",
      "8560f77e7d414d4ba09d847a451df0e0",
      "0f8ff8022dae4990b1ea432b2e9d3c07",
      "92a04383007146e9b74ad6b15bc80413",
      "1d3610da2df64773b16b18f02fb4501a",
      "f0858d6174ed4af7b49a103e61536b04",
      "13ea534c6ce64663ad8e4202a002f51d",
      "bf9892dfa56c4cd6ae37fb8318044378"
     ]
    },
    "id": "QfQiOnEkGZat",
    "outputId": "547d08dc-de8c-4b40-ea30-5f362983f31f"
   },
   "outputs": [],
   "source": [
    "# Creating an instance of the model defined above. \n",
    "# You can modify it incase you need to pass paratemers to the constructor.\n",
    "model = Segnet()"
   ]
  },
  {
   "cell_type": "markdown",
   "metadata": {
    "id": "2A6-PRU9gr2y"
   },
   "source": [
    "### 1.3 Hyperparameters(0.5 points)\n",
    "Define all the hyperparameters(not restricted to the three given below) that you find useful here."
   ]
  },
  {
   "cell_type": "code",
   "execution_count": 6,
   "metadata": {
    "colab": {
     "base_uri": "https://localhost:8080/"
    },
    "id": "q6kJxB_eiFob",
    "outputId": "51698540-d620-4789-f260-e00a9ac05093"
   },
   "outputs": [],
   "source": [
    "# # memory footprint support libraries/code\n",
    "# !ln -sf /opt/bin/nvidia-smi /usr/bin/nvidia-smi\n",
    "# !pip install gputil\n",
    "# !pip install psutil\n",
    "# !pip install humanize\n",
    "\n",
    "# import psutil\n",
    "# import humanize\n",
    "# import os\n",
    "# import GPUtil as GPU\n",
    "# GPUs = GPU.getGPUs()\n",
    "\n",
    "# # XXX: only one GPU on Colab and isn’t guaranteed\n",
    "# gpu = GPUs[0]\n",
    "# def printm():\n",
    "#   process = psutil.Process(os.getpid())\n",
    "#   print(\"Gen RAM Free: \" + humanize.naturalsize( psutil.virtual_memory().available ), \" | Proc size: \" + humanize.naturalsize( process.memory_info().rss))\n",
    "#   print(\"GPU RAM Free: {0:.0f}MB | Used: {1:.0f}MB | Util {2:3.0f}% | Total {3:.0f}MB\".format(gpu.memoryFree, gpu.memoryUsed, gpu.memoryUtil*100, gpu.memoryTotal))\n",
    "\n",
    "# printm()"
   ]
  },
  {
   "cell_type": "code",
   "execution_count": 7,
   "metadata": {
    "id": "BgeL0Al7gr2y"
   },
   "outputs": [],
   "source": [
    "local_path = 'VOCdevkit/VOC2012/' # modify it according to your device\n",
    "bs = 2 # test with 16, 32 and 64 (select the best)\n",
    "epochs = 2 #5 # till 50 (5, 10, ...) (base on time also)\n",
    "lr = 3e-3"
   ]
  },
  {
   "cell_type": "markdown",
   "metadata": {
    "id": "aXVHz5f7gr2z"
   },
   "source": [
    "### 1.4 Dataset and Dataloader(0.5 points)\n",
    "Create the dataset using pascalVOCDataset class defined above. Use local_path defined in the cell above as root. "
   ]
  },
  {
   "cell_type": "code",
   "execution_count": 8,
   "metadata": {
    "colab": {
     "base_uri": "https://localhost:8080/"
    },
    "id": "w_kJoNiXgr2z",
    "outputId": "4319942b-d3bf-431e-83e2-87523811bcc7"
   },
   "outputs": [],
   "source": [
    "# dataset variable\n",
    "dst_train = pascalVOCDataset(root=local_path, is_transform=True,img_size=256, split='train') # add augmentation\n",
    "dst_valid = pascalVOCDataset(root=local_path, is_transform=True,img_size=256, split='val')\n",
    "\n",
    "# dataloader variable\n",
    "# using in-built dataloader with reshuffling data at each epoch\n",
    "trainloader = data.DataLoader(dst_train, batch_size=bs, shuffle=True)\n",
    "validloader = data.DataLoader(dst_valid, batch_size=bs)"
   ]
  },
  {
   "cell_type": "markdown",
   "metadata": {
    "id": "TnRC5XrLgr2z"
   },
   "source": [
    "### 1.5 Loss fuction and Optimizer(1.0 point)\n",
    "Define below with the loss function you think would be most suitable for segmentation task. You are free to choose any optimizer to train the network."
   ]
  },
  {
   "cell_type": "code",
   "execution_count": 9,
   "metadata": {
    "id": "QgxxPYOsgr20"
   },
   "outputs": [],
   "source": [
    "from torch.optim import Adam\n",
    "\n",
    "# loss function\n",
    "# the problem is a classification problem (into 21 classes) CrossEntropyLoss works well in this case \n",
    "loss_f = nn.CrossEntropyLoss() \n",
    "\n",
    "# optimizer variable\n",
    "# Adam contains both momentum and rmsprop feature, it works well in general\n",
    "optimizer = Adam(model.parameters(), lr=lr)"
   ]
  },
  {
   "cell_type": "markdown",
   "metadata": {
    "id": "xIbBCUnvgr20"
   },
   "source": [
    "### 1.6 Training the model(3.0 points)\n",
    "Your task here is to complete the code below to perform a training loop and save the model weights after each epoch of training."
   ]
  },
  {
   "cell_type": "code",
   "execution_count": 10,
   "metadata": {
    "id": "Fm94pJ6dgr20"
   },
   "outputs": [],
   "source": [
    "# # Preview of labels\n",
    "# import cv2\n",
    "\n",
    "# it = iter(trainloader)\n",
    "# d, t = next(it)\n",
    "\n",
    "# d1 = d[1];l1 = t[1]\n",
    "# d1 = d1.numpy().transpose((1,2,0)).astype(np.uint8)\n",
    "# # d1 = cv2.cvtColor(d1, cv2.COLOR_RGB2BGR)\n",
    "# plt.imshow(d1); plt.figure()\n",
    "# dst.decode_segmap(l1.numpy(), plot=True)\n",
    "# !mkdir weights"
   ]
  },
  {
   "cell_type": "code",
   "execution_count": 11,
   "metadata": {},
   "outputs": [],
   "source": [
    "# check for gpu\n",
    "if torch.cuda.is_available():\n",
    "  device = torch.device('cuda')\n",
    "else:\n",
    "  device = torch.device('cpu')\n",
    "\n",
    "# move model\n",
    "model = model.to(device)"
   ]
  },
  {
   "cell_type": "code",
   "execution_count": 12,
   "metadata": {
    "colab": {
     "base_uri": "https://localhost:8080/"
    },
    "id": "Xz08hSdPKODm",
    "outputId": "c4e35c4f-1d25-4778-963c-1a9978d4e324",
    "tags": []
   },
   "outputs": [],
   "source": [
    " \n",
    "# # may be save losses in lists\n",
    "\n",
    "# for i in range(epochs):\n",
    "\n",
    "#   # putting model in training mode\n",
    "#   model.train()\n",
    "#   total_loss = 0\n",
    "#   for j, (img, label) in enumerate(trainloader):\n",
    "#     # transfer to gpu if available for faster computation\n",
    "#     img, label = img.to(device), label.to(device)\n",
    "#     # clean previous gradients\n",
    "#     optimizer.zero_grad()\n",
    "#     # forward pass through model\n",
    "#     pred = model(img)\n",
    "#     pred = pred['out'] # output of model is orderedDict\n",
    "#     # loss\n",
    "#     loss = loss_f(pred, label)\n",
    "#     total_loss += loss.item()\n",
    "#     # backward pass\n",
    "#     loss.backward()\n",
    "#     # gradient descent -> update parameters\n",
    "#     optimizer.step()\n",
    "\n",
    "#   # print training loss -> later print after epoch or half epoch (costly operation)\n",
    "#   print(f'Epoch {i}: training loss={total_loss/len(trainloader)}') # change bs accordingly\n",
    "\n",
    "#   # saving model weights\n",
    "#   torch.save(model.state_dict(), f'weights/epoch_{i}.pth')\n",
    "\n",
    "#   # validation mode - batchnorm and dropout will working val mode\n",
    "#   model.eval()\n",
    "#   valid_loss = 0\n",
    "#   for (img, label) in validloader:\n",
    "#     img, label = img.to(device), label.to(device) # to gpu\n",
    "#     # deactivate autograd engine - reduce memory usage \n",
    "#     with torch.no_grad(): \n",
    "#       pred = model(img) # forward pass\n",
    "#       pred = pred['out'] # output of model is orderedDict\n",
    "#       loss = loss_f(pred, label) # loss calc\n",
    "#       valid_loss += loss.item()\n",
    "\n",
    "#   print(f'Epoch {i}: validation loss={valid_loss/len(validloader)}') \n",
    "\n",
    "\n",
    "# model = model.to('cpu')\n",
    "\n",
    "\n",
    "  \n"
   ]
  },
  {
   "cell_type": "markdown",
   "metadata": {
    "id": "ghWL_sQ6gr21"
   },
   "source": [
    "### 1.7 Evaluate your model(1.5 points)\n",
    "In this section you have to implement the evaluation metrics for your model. Calculate the values of F1-score, dice coefficient and AUC-ROC score on the data you used for training. You can use external packages like scikit-learn to compute above metrics."
   ]
  },
  {
   "cell_type": "code",
   "execution_count": 20,
   "metadata": {
    "id": "xqYnTMNbgr21"
   },
   "outputs": [],
   "source": [
    "# import functions\n",
    "from sklearn.metrics import f1_score, roc_auc_score\n",
    "from utils.eval_metrics import dice_coefficient # user defined\n",
    "\n",
    "# def evaluate(ground_truth, predictions):\n",
    "#     \"\"\"\n",
    "#         Return evalution scores.\n",
    "#     Args:   \n",
    "#         ground_truth: HxW ndarray; each element contains class label from (0-20)\n",
    "#         prediction: HxW ndarray; each element contains predicted class label\n",
    "#     \"\"\"\n",
    "    \n",
    "#     # calculate metrics globally (considering all false positives, true positives, false negatives and )\n",
    "#     f1 = f1_score(ground_truth, predictions, average='micro') \n",
    "#     auc_score = roc_auc_score(ground_truth, predictions, average='micro', multi_class='ovr')\n",
    "#     dice_coeeficient = 0\n",
    "\n",
    "#     return f1, auc_score, dice_coeeficient\n",
    "\n",
    "def evaluate_batch(gnd_b, pred_b):\n",
    "    \"\"\"\n",
    "        Calculate evalution scores over the batch.\n",
    "    Args:   \n",
    "        gnd_b: BxHxW tensor; ground truth labels; each element of matrix in B dim contains class label from (0-20)\n",
    "        pred_b: BxCxHxW tensor; each element contains predicted class label \n",
    "                here C=21 (0-20; no. of classes); each C corresponds to probabilites for that class,\n",
    "                eg. C=0 contain score at each element in matrix HxW \n",
    "    Return:\n",
    "        f1_score, auc_score, dice_coeeficient (averaged over batch size)\n",
    "    \"\"\"\n",
    "    # to cpu and as numpy ndarray\n",
    "    gnd_b = gnd_b.cpu().numpy()\n",
    "\n",
    "    batch_size = gnd_b.shape[0]\n",
    "    \n",
    "    # extract most probable class through C-dim \n",
    "    label_b = torch.argmax(pred_b, dim=1).cpu().numpy()\n",
    "\n",
    "    # initial value\n",
    "    f1 = auc = dice = 0\n",
    "    # iterate over batch elements\n",
    "    for i in range(batch_size):\n",
    "        gnd = gnd_b[i,:,:] \n",
    "        label = label_b[i,:,:]\n",
    "        f1 += f1_score(gnd.flatten(), label.flatten(), average='micro')\n",
    "        auc += roc_auc_score(gnd.flatten(), label.flatten(), average='micro', multi_class='ovr')\n",
    "        dice += dice_coefficient(gnd, label)\n",
    "\n",
    "    return [f1/batch_size, auc/batch_size, dice/batch_size]"
   ]
  },
  {
   "cell_type": "markdown",
   "metadata": {
    "id": "ZUf8J_s-gr21"
   },
   "source": [
    "### 1.8 Plot the evaluation metrics against epochs(1.0)\n",
    "In section 1.6 we saved the weights of the model after each epoch. In this section, you have to calculate the evaluation metrics after each epoch of training by loading the weights for each epoch. Once you have calculated the evaluation metrics for each epoch, plot them against the epochs."
   ]
  },
  {
   "cell_type": "code",
   "execution_count": 24,
   "metadata": {
    "id": "fE2LNXlvgr21"
   },
   "outputs": [
    {
     "output_type": "error",
     "ename": "AxisError",
     "evalue": "axis 1 is out of bounds for array of dimension 1",
     "traceback": [
      "\u001b[0;31m---------------------------------------------------------------------------\u001b[0m",
      "\u001b[0;31mAxisError\u001b[0m                                 Traceback (most recent call last)",
      "\u001b[0;32m<ipython-input-24-2cde6b361acb>\u001b[0m in \u001b[0;36m<module>\u001b[0;34m\u001b[0m\n\u001b[1;32m     19\u001b[0m             \u001b[0mpred\u001b[0m \u001b[0;34m=\u001b[0m \u001b[0mpred\u001b[0m\u001b[0;34m[\u001b[0m\u001b[0;34m'out'\u001b[0m\u001b[0;34m]\u001b[0m \u001b[0;31m# Batchx21(class)xHxW\u001b[0m\u001b[0;34m\u001b[0m\u001b[0;34m\u001b[0m\u001b[0m\n\u001b[1;32m     20\u001b[0m             \u001b[0;31m# evaluation\u001b[0m\u001b[0;34m\u001b[0m\u001b[0;34m\u001b[0m\u001b[0;34m\u001b[0m\u001b[0m\n\u001b[0;32m---> 21\u001b[0;31m             \u001b[0mscores\u001b[0m \u001b[0;34m=\u001b[0m \u001b[0mevaluate_batch\u001b[0m\u001b[0;34m(\u001b[0m\u001b[0mlabel\u001b[0m\u001b[0;34m,\u001b[0m \u001b[0mpred\u001b[0m\u001b[0;34m)\u001b[0m\u001b[0;34m\u001b[0m\u001b[0;34m\u001b[0m\u001b[0m\n\u001b[0m\u001b[1;32m     22\u001b[0m             \u001b[0;31m# sum values\u001b[0m\u001b[0;34m\u001b[0m\u001b[0;34m\u001b[0m\u001b[0;34m\u001b[0m\u001b[0m\n\u001b[1;32m     23\u001b[0m             \u001b[0mf_one\u001b[0m \u001b[0;34m+=\u001b[0m \u001b[0mscores\u001b[0m\u001b[0;34m[\u001b[0m\u001b[0;36m0\u001b[0m\u001b[0;34m]\u001b[0m\u001b[0;34m\u001b[0m\u001b[0;34m\u001b[0m\u001b[0m\n",
      "\u001b[0;32m<ipython-input-20-86c652a0cb5b>\u001b[0m in \u001b[0;36mevaluate_batch\u001b[0;34m(gnd_b, pred_b)\u001b[0m\n\u001b[1;32m     44\u001b[0m         \u001b[0mlabel\u001b[0m \u001b[0;34m=\u001b[0m \u001b[0mlabel_b\u001b[0m\u001b[0;34m[\u001b[0m\u001b[0mi\u001b[0m\u001b[0;34m,\u001b[0m\u001b[0;34m:\u001b[0m\u001b[0;34m,\u001b[0m\u001b[0;34m:\u001b[0m\u001b[0;34m]\u001b[0m\u001b[0;34m\u001b[0m\u001b[0;34m\u001b[0m\u001b[0m\n\u001b[1;32m     45\u001b[0m         \u001b[0mf1\u001b[0m \u001b[0;34m+=\u001b[0m \u001b[0mf1_score\u001b[0m\u001b[0;34m(\u001b[0m\u001b[0mgnd\u001b[0m\u001b[0;34m.\u001b[0m\u001b[0mflatten\u001b[0m\u001b[0;34m(\u001b[0m\u001b[0;34m)\u001b[0m\u001b[0;34m,\u001b[0m \u001b[0mlabel\u001b[0m\u001b[0;34m.\u001b[0m\u001b[0mflatten\u001b[0m\u001b[0;34m(\u001b[0m\u001b[0;34m)\u001b[0m\u001b[0;34m,\u001b[0m \u001b[0maverage\u001b[0m\u001b[0;34m=\u001b[0m\u001b[0;34m'micro'\u001b[0m\u001b[0;34m)\u001b[0m\u001b[0;34m\u001b[0m\u001b[0;34m\u001b[0m\u001b[0m\n\u001b[0;32m---> 46\u001b[0;31m         \u001b[0mauc\u001b[0m \u001b[0;34m+=\u001b[0m \u001b[0mroc_auc_score\u001b[0m\u001b[0;34m(\u001b[0m\u001b[0mgnd\u001b[0m\u001b[0;34m.\u001b[0m\u001b[0mflatten\u001b[0m\u001b[0;34m(\u001b[0m\u001b[0;34m)\u001b[0m\u001b[0;34m,\u001b[0m \u001b[0mlabel\u001b[0m\u001b[0;34m.\u001b[0m\u001b[0mflatten\u001b[0m\u001b[0;34m(\u001b[0m\u001b[0;34m)\u001b[0m\u001b[0;34m,\u001b[0m \u001b[0maverage\u001b[0m\u001b[0;34m=\u001b[0m\u001b[0;34m'micro'\u001b[0m\u001b[0;34m,\u001b[0m \u001b[0mmulti_class\u001b[0m\u001b[0;34m=\u001b[0m\u001b[0;34m'ovr'\u001b[0m\u001b[0;34m)\u001b[0m\u001b[0;34m\u001b[0m\u001b[0;34m\u001b[0m\u001b[0m\n\u001b[0m\u001b[1;32m     47\u001b[0m         \u001b[0mdice\u001b[0m \u001b[0;34m+=\u001b[0m \u001b[0mdice_coefficient\u001b[0m\u001b[0;34m(\u001b[0m\u001b[0mgnd\u001b[0m\u001b[0;34m,\u001b[0m \u001b[0mlabel\u001b[0m\u001b[0;34m)\u001b[0m\u001b[0;34m\u001b[0m\u001b[0;34m\u001b[0m\u001b[0m\n\u001b[1;32m     48\u001b[0m \u001b[0;34m\u001b[0m\u001b[0m\n",
      "\u001b[0;32m~/.virtualenvs/pytorch/lib/python3.6/site-packages/sklearn/utils/validation.py\u001b[0m in \u001b[0;36minner_f\u001b[0;34m(*args, **kwargs)\u001b[0m\n\u001b[1;32m     61\u001b[0m             \u001b[0mextra_args\u001b[0m \u001b[0;34m=\u001b[0m \u001b[0mlen\u001b[0m\u001b[0;34m(\u001b[0m\u001b[0margs\u001b[0m\u001b[0;34m)\u001b[0m \u001b[0;34m-\u001b[0m \u001b[0mlen\u001b[0m\u001b[0;34m(\u001b[0m\u001b[0mall_args\u001b[0m\u001b[0;34m)\u001b[0m\u001b[0;34m\u001b[0m\u001b[0;34m\u001b[0m\u001b[0m\n\u001b[1;32m     62\u001b[0m             \u001b[0;32mif\u001b[0m \u001b[0mextra_args\u001b[0m \u001b[0;34m<=\u001b[0m \u001b[0;36m0\u001b[0m\u001b[0;34m:\u001b[0m\u001b[0;34m\u001b[0m\u001b[0;34m\u001b[0m\u001b[0m\n\u001b[0;32m---> 63\u001b[0;31m                 \u001b[0;32mreturn\u001b[0m \u001b[0mf\u001b[0m\u001b[0;34m(\u001b[0m\u001b[0;34m*\u001b[0m\u001b[0margs\u001b[0m\u001b[0;34m,\u001b[0m \u001b[0;34m**\u001b[0m\u001b[0mkwargs\u001b[0m\u001b[0;34m)\u001b[0m\u001b[0;34m\u001b[0m\u001b[0;34m\u001b[0m\u001b[0m\n\u001b[0m\u001b[1;32m     64\u001b[0m \u001b[0;34m\u001b[0m\u001b[0m\n\u001b[1;32m     65\u001b[0m             \u001b[0;31m# extra_args > 0\u001b[0m\u001b[0;34m\u001b[0m\u001b[0;34m\u001b[0m\u001b[0;34m\u001b[0m\u001b[0m\n",
      "\u001b[0;32m~/.virtualenvs/pytorch/lib/python3.6/site-packages/sklearn/metrics/_ranking.py\u001b[0m in \u001b[0;36mroc_auc_score\u001b[0;34m(y_true, y_score, average, sample_weight, max_fpr, multi_class, labels)\u001b[0m\n\u001b[1;32m    536\u001b[0m             \u001b[0;32mraise\u001b[0m \u001b[0mValueError\u001b[0m\u001b[0;34m(\u001b[0m\u001b[0;34m\"multi_class must be in ('ovo', 'ovr')\"\u001b[0m\u001b[0;34m)\u001b[0m\u001b[0;34m\u001b[0m\u001b[0;34m\u001b[0m\u001b[0m\n\u001b[1;32m    537\u001b[0m         return _multiclass_roc_auc_score(y_true, y_score, labels,\n\u001b[0;32m--> 538\u001b[0;31m                                          multi_class, average, sample_weight)\n\u001b[0m\u001b[1;32m    539\u001b[0m     \u001b[0;32melif\u001b[0m \u001b[0my_type\u001b[0m \u001b[0;34m==\u001b[0m \u001b[0;34m\"binary\"\u001b[0m\u001b[0;34m:\u001b[0m\u001b[0;34m\u001b[0m\u001b[0;34m\u001b[0m\u001b[0m\n\u001b[1;32m    540\u001b[0m         \u001b[0mlabels\u001b[0m \u001b[0;34m=\u001b[0m \u001b[0mnp\u001b[0m\u001b[0;34m.\u001b[0m\u001b[0munique\u001b[0m\u001b[0;34m(\u001b[0m\u001b[0my_true\u001b[0m\u001b[0;34m)\u001b[0m\u001b[0;34m\u001b[0m\u001b[0;34m\u001b[0m\u001b[0m\n",
      "\u001b[0;32m~/.virtualenvs/pytorch/lib/python3.6/site-packages/sklearn/metrics/_ranking.py\u001b[0m in \u001b[0;36m_multiclass_roc_auc_score\u001b[0;34m(y_true, y_score, labels, multi_class, average, sample_weight)\u001b[0m\n\u001b[1;32m    593\u001b[0m     \"\"\"\n\u001b[1;32m    594\u001b[0m     \u001b[0;31m# validation of the input y_score\u001b[0m\u001b[0;34m\u001b[0m\u001b[0;34m\u001b[0m\u001b[0;34m\u001b[0m\u001b[0m\n\u001b[0;32m--> 595\u001b[0;31m     \u001b[0;32mif\u001b[0m \u001b[0;32mnot\u001b[0m \u001b[0mnp\u001b[0m\u001b[0;34m.\u001b[0m\u001b[0mallclose\u001b[0m\u001b[0;34m(\u001b[0m\u001b[0;36m1\u001b[0m\u001b[0;34m,\u001b[0m \u001b[0my_score\u001b[0m\u001b[0;34m.\u001b[0m\u001b[0msum\u001b[0m\u001b[0;34m(\u001b[0m\u001b[0maxis\u001b[0m\u001b[0;34m=\u001b[0m\u001b[0;36m1\u001b[0m\u001b[0;34m)\u001b[0m\u001b[0;34m)\u001b[0m\u001b[0;34m:\u001b[0m\u001b[0;34m\u001b[0m\u001b[0;34m\u001b[0m\u001b[0m\n\u001b[0m\u001b[1;32m    596\u001b[0m         raise ValueError(\n\u001b[1;32m    597\u001b[0m             \u001b[0;34m\"Target scores need to be probabilities for multiclass \"\u001b[0m\u001b[0;34m\u001b[0m\u001b[0;34m\u001b[0m\u001b[0m\n",
      "\u001b[0;32m~/.virtualenvs/pytorch/lib/python3.6/site-packages/numpy/core/_methods.py\u001b[0m in \u001b[0;36m_sum\u001b[0;34m(a, axis, dtype, out, keepdims, initial, where)\u001b[0m\n\u001b[1;32m     36\u001b[0m def _sum(a, axis=None, dtype=None, out=None, keepdims=False,\n\u001b[1;32m     37\u001b[0m          initial=_NoValue, where=True):\n\u001b[0;32m---> 38\u001b[0;31m     \u001b[0;32mreturn\u001b[0m \u001b[0mumr_sum\u001b[0m\u001b[0;34m(\u001b[0m\u001b[0ma\u001b[0m\u001b[0;34m,\u001b[0m \u001b[0maxis\u001b[0m\u001b[0;34m,\u001b[0m \u001b[0mdtype\u001b[0m\u001b[0;34m,\u001b[0m \u001b[0mout\u001b[0m\u001b[0;34m,\u001b[0m \u001b[0mkeepdims\u001b[0m\u001b[0;34m,\u001b[0m \u001b[0minitial\u001b[0m\u001b[0;34m,\u001b[0m \u001b[0mwhere\u001b[0m\u001b[0;34m)\u001b[0m\u001b[0;34m\u001b[0m\u001b[0;34m\u001b[0m\u001b[0m\n\u001b[0m\u001b[1;32m     39\u001b[0m \u001b[0;34m\u001b[0m\u001b[0m\n\u001b[1;32m     40\u001b[0m def _prod(a, axis=None, dtype=None, out=None, keepdims=False,\n",
      "\u001b[0;31mAxisError\u001b[0m: axis 1 is out of bounds for array of dimension 1"
     ]
    }
   ],
   "source": [
    "# list of score \n",
    "f1_list = []; auc_list = []; dice_list = []\n",
    "\n",
    "# loop for original number of epochs\n",
    "for i in range(epochs):\n",
    "    # load the model states\n",
    "    model.load_state_dict(torch.load(f'weights/epoch_{i}.pth'))\n",
    "    # model in evaluation model -> batchnorm, dropout etc. adjusted accordingly\n",
    "    model.eval()\n",
    "    # evaluation score variables to store values over each epoch\n",
    "    f_one = roc_auc = dice_coef = 0 \n",
    "\n",
    "    for img, label in validloader:\n",
    "        img, label = img.to(device), label.to(device) # to gpu\n",
    "        # deactivate autograd engine - reduce memory usage \n",
    "        with torch.no_grad(): \n",
    "            pred = model(img) # forward pass\n",
    "            # output of model is orderedDict\n",
    "            pred = pred['out'] # Batchx21(class)xHxW\n",
    "            # evaluation\n",
    "            scores = evaluate_batch(label, pred)\n",
    "            # sum values\n",
    "            f_one += scores[0]\n",
    "            roc_auc += scores[1]\n",
    "            dice_coef += scores[2]\n",
    "\n",
    "    print(f_one, roc_auc, dice_coef)\n",
    "    # append to list (with averaged values over valid set)\n",
    "    f1_list.append(f_one/len(validloader))\n",
    "    auc_list.append(roc_auc/len(validloader))\n",
    "    dice_list.append(dice_coef/len(validloader))\n",
    "\n",
    "# PLOT\n",
    "X = range(epochs)\n",
    "plt.plot(X, f1_list, label=\"F1-score\")\n",
    "plt.plot(X, auc_list, label=\"AUC-ROC score\")\n",
    "plt.plot(X, dice_list, label=\"Dice coefficient\")\n",
    "plt.xlabel(\"Number of epochs\")\n",
    "plt.ylabel(\"Evaluation metrics score\")\n",
    "plt.title(\"Performance evalaution\")\n",
    "plt.legend() # add legend\n",
    "plt.show()"
   ]
  },
  {
   "cell_type": "markdown",
   "metadata": {
    "id": "noSVRRkjgr22"
   },
   "source": [
    "### 1.9 Visualize results(0.5 points)\n",
    "For any 10 images in the dataset, show the images along the with their segmentation mask."
   ]
  },
  {
   "cell_type": "code",
   "execution_count": null,
   "metadata": {
    "id": "3NS50IL_c7Mf"
   },
   "outputs": [],
   "source": []
  }
 ],
 "metadata": {
  "accelerator": "GPU",
  "colab": {
   "collapsed_sections": [],
   "include_colab_link": true,
   "name": "Copy of segmentation_1.ipynb",
   "provenance": []
  },
  "kernelspec": {
   "name": "python3",
   "display_name": "Python 3.6.8 64-bit ('pytorch')",
   "metadata": {
    "interpreter": {
     "hash": "39c32cf5604986400b1cbafd7518d951df7ae3ce292cc81e38a02c43f6c4706e"
    }
   }
  },
  "language_info": {
   "codemirror_mode": {
    "name": "ipython",
    "version": 3
   },
   "file_extension": ".py",
   "mimetype": "text/x-python",
   "name": "python",
   "nbconvert_exporter": "python",
   "pygments_lexer": "ipython3",
   "version": "3.6.8-final"
  },
  "widgets": {
   "application/vnd.jupyter.widget-state+json": {
    "0f8ff8022dae4990b1ea432b2e9d3c07": {
     "model_module": "@jupyter-widgets/controls",
     "model_name": "FloatProgressModel",
     "state": {
      "_dom_classes": [],
      "_model_module": "@jupyter-widgets/controls",
      "_model_module_version": "1.5.0",
      "_model_name": "FloatProgressModel",
      "_view_count": null,
      "_view_module": "@jupyter-widgets/controls",
      "_view_module_version": "1.5.0",
      "_view_name": "ProgressView",
      "bar_style": "success",
      "description": "100%",
      "description_tooltip": null,
      "layout": "IPY_MODEL_f0858d6174ed4af7b49a103e61536b04",
      "max": 217800805,
      "min": 0,
      "orientation": "horizontal",
      "style": "IPY_MODEL_1d3610da2df64773b16b18f02fb4501a",
      "value": 217800805
     }
    },
    "13ea534c6ce64663ad8e4202a002f51d": {
     "model_module": "@jupyter-widgets/controls",
     "model_name": "DescriptionStyleModel",
     "state": {
      "_model_module": "@jupyter-widgets/controls",
      "_model_module_version": "1.5.0",
      "_model_name": "DescriptionStyleModel",
      "_view_count": null,
      "_view_module": "@jupyter-widgets/base",
      "_view_module_version": "1.2.0",
      "_view_name": "StyleView",
      "description_width": ""
     }
    },
    "1d3610da2df64773b16b18f02fb4501a": {
     "model_module": "@jupyter-widgets/controls",
     "model_name": "ProgressStyleModel",
     "state": {
      "_model_module": "@jupyter-widgets/controls",
      "_model_module_version": "1.5.0",
      "_model_name": "ProgressStyleModel",
      "_view_count": null,
      "_view_module": "@jupyter-widgets/base",
      "_view_module_version": "1.2.0",
      "_view_name": "StyleView",
      "bar_color": null,
      "description_width": "initial"
     }
    },
    "58c5855440754107a3706f941d83e0f4": {
     "model_module": "@jupyter-widgets/base",
     "model_name": "LayoutModel",
     "state": {
      "_model_module": "@jupyter-widgets/base",
      "_model_module_version": "1.2.0",
      "_model_name": "LayoutModel",
      "_view_count": null,
      "_view_module": "@jupyter-widgets/base",
      "_view_module_version": "1.2.0",
      "_view_name": "LayoutView",
      "align_content": null,
      "align_items": null,
      "align_self": null,
      "border": null,
      "bottom": null,
      "display": null,
      "flex": null,
      "flex_flow": null,
      "grid_area": null,
      "grid_auto_columns": null,
      "grid_auto_flow": null,
      "grid_auto_rows": null,
      "grid_column": null,
      "grid_gap": null,
      "grid_row": null,
      "grid_template_areas": null,
      "grid_template_columns": null,
      "grid_template_rows": null,
      "height": null,
      "justify_content": null,
      "justify_items": null,
      "left": null,
      "margin": null,
      "max_height": null,
      "max_width": null,
      "min_height": null,
      "min_width": null,
      "object_fit": null,
      "object_position": null,
      "order": null,
      "overflow": null,
      "overflow_x": null,
      "overflow_y": null,
      "padding": null,
      "right": null,
      "top": null,
      "visibility": null,
      "width": null
     }
    },
    "6dc48abab91f41e38a03efc97fc88f5a": {
     "model_module": "@jupyter-widgets/controls",
     "model_name": "HBoxModel",
     "state": {
      "_dom_classes": [],
      "_model_module": "@jupyter-widgets/controls",
      "_model_module_version": "1.5.0",
      "_model_name": "HBoxModel",
      "_view_count": null,
      "_view_module": "@jupyter-widgets/controls",
      "_view_module_version": "1.5.0",
      "_view_name": "HBoxView",
      "box_style": "",
      "children": [
       "IPY_MODEL_b4e581c1ceb9408790f30b96cff73f99",
       "IPY_MODEL_ba09c1085fa74be4a05eced774156f7a"
      ],
      "layout": "IPY_MODEL_b69f7c47a904498986d106e1bf36d926"
     }
    },
    "8560f77e7d414d4ba09d847a451df0e0": {
     "model_module": "@jupyter-widgets/base",
     "model_name": "LayoutModel",
     "state": {
      "_model_module": "@jupyter-widgets/base",
      "_model_module_version": "1.2.0",
      "_model_name": "LayoutModel",
      "_view_count": null,
      "_view_module": "@jupyter-widgets/base",
      "_view_module_version": "1.2.0",
      "_view_name": "LayoutView",
      "align_content": null,
      "align_items": null,
      "align_self": null,
      "border": null,
      "bottom": null,
      "display": null,
      "flex": null,
      "flex_flow": null,
      "grid_area": null,
      "grid_auto_columns": null,
      "grid_auto_flow": null,
      "grid_auto_rows": null,
      "grid_column": null,
      "grid_gap": null,
      "grid_row": null,
      "grid_template_areas": null,
      "grid_template_columns": null,
      "grid_template_rows": null,
      "height": null,
      "justify_content": null,
      "justify_items": null,
      "left": null,
      "margin": null,
      "max_height": null,
      "max_width": null,
      "min_height": null,
      "min_width": null,
      "object_fit": null,
      "object_position": null,
      "order": null,
      "overflow": null,
      "overflow_x": null,
      "overflow_y": null,
      "padding": null,
      "right": null,
      "top": null,
      "visibility": null,
      "width": null
     }
    },
    "92a04383007146e9b74ad6b15bc80413": {
     "model_module": "@jupyter-widgets/controls",
     "model_name": "HTMLModel",
     "state": {
      "_dom_classes": [],
      "_model_module": "@jupyter-widgets/controls",
      "_model_module_version": "1.5.0",
      "_model_name": "HTMLModel",
      "_view_count": null,
      "_view_module": "@jupyter-widgets/controls",
      "_view_module_version": "1.5.0",
      "_view_name": "HTMLView",
      "description": "",
      "description_tooltip": null,
      "layout": "IPY_MODEL_bf9892dfa56c4cd6ae37fb8318044378",
      "placeholder": "​",
      "style": "IPY_MODEL_13ea534c6ce64663ad8e4202a002f51d",
      "value": " 208M/208M [00:02&lt;00:00, 92.4MB/s]"
     }
    },
    "b4e581c1ceb9408790f30b96cff73f99": {
     "model_module": "@jupyter-widgets/controls",
     "model_name": "FloatProgressModel",
     "state": {
      "_dom_classes": [],
      "_model_module": "@jupyter-widgets/controls",
      "_model_module_version": "1.5.0",
      "_model_name": "FloatProgressModel",
      "_view_count": null,
      "_view_module": "@jupyter-widgets/controls",
      "_view_module_version": "1.5.0",
      "_view_name": "ProgressView",
      "bar_style": "success",
      "description": "100%",
      "description_tooltip": null,
      "layout": "IPY_MODEL_58c5855440754107a3706f941d83e0f4",
      "max": 178728960,
      "min": 0,
      "orientation": "horizontal",
      "style": "IPY_MODEL_b5680358c1e74addbddab3e381c36019",
      "value": 178728960
     }
    },
    "b5680358c1e74addbddab3e381c36019": {
     "model_module": "@jupyter-widgets/controls",
     "model_name": "ProgressStyleModel",
     "state": {
      "_model_module": "@jupyter-widgets/controls",
      "_model_module_version": "1.5.0",
      "_model_name": "ProgressStyleModel",
      "_view_count": null,
      "_view_module": "@jupyter-widgets/base",
      "_view_module_version": "1.2.0",
      "_view_name": "StyleView",
      "bar_color": null,
      "description_width": "initial"
     }
    },
    "b69f7c47a904498986d106e1bf36d926": {
     "model_module": "@jupyter-widgets/base",
     "model_name": "LayoutModel",
     "state": {
      "_model_module": "@jupyter-widgets/base",
      "_model_module_version": "1.2.0",
      "_model_name": "LayoutModel",
      "_view_count": null,
      "_view_module": "@jupyter-widgets/base",
      "_view_module_version": "1.2.0",
      "_view_name": "LayoutView",
      "align_content": null,
      "align_items": null,
      "align_self": null,
      "border": null,
      "bottom": null,
      "display": null,
      "flex": null,
      "flex_flow": null,
      "grid_area": null,
      "grid_auto_columns": null,
      "grid_auto_flow": null,
      "grid_auto_rows": null,
      "grid_column": null,
      "grid_gap": null,
      "grid_row": null,
      "grid_template_areas": null,
      "grid_template_columns": null,
      "grid_template_rows": null,
      "height": null,
      "justify_content": null,
      "justify_items": null,
      "left": null,
      "margin": null,
      "max_height": null,
      "max_width": null,
      "min_height": null,
      "min_width": null,
      "object_fit": null,
      "object_position": null,
      "order": null,
      "overflow": null,
      "overflow_x": null,
      "overflow_y": null,
      "padding": null,
      "right": null,
      "top": null,
      "visibility": null,
      "width": null
     }
    },
    "ba09c1085fa74be4a05eced774156f7a": {
     "model_module": "@jupyter-widgets/controls",
     "model_name": "HTMLModel",
     "state": {
      "_dom_classes": [],
      "_model_module": "@jupyter-widgets/controls",
      "_model_module_version": "1.5.0",
      "_model_name": "HTMLModel",
      "_view_count": null,
      "_view_module": "@jupyter-widgets/controls",
      "_view_module_version": "1.5.0",
      "_view_name": "HTMLView",
      "description": "",
      "description_tooltip": null,
      "layout": "IPY_MODEL_d506f02006a648639ab6619118be8db1",
      "placeholder": "​",
      "style": "IPY_MODEL_e4d9fd672c704905a9a13c7d930dbad8",
      "value": " 170M/170M [00:04&lt;00:00, 44.4MB/s]"
     }
    },
    "bf9892dfa56c4cd6ae37fb8318044378": {
     "model_module": "@jupyter-widgets/base",
     "model_name": "LayoutModel",
     "state": {
      "_model_module": "@jupyter-widgets/base",
      "_model_module_version": "1.2.0",
      "_model_name": "LayoutModel",
      "_view_count": null,
      "_view_module": "@jupyter-widgets/base",
      "_view_module_version": "1.2.0",
      "_view_name": "LayoutView",
      "align_content": null,
      "align_items": null,
      "align_self": null,
      "border": null,
      "bottom": null,
      "display": null,
      "flex": null,
      "flex_flow": null,
      "grid_area": null,
      "grid_auto_columns": null,
      "grid_auto_flow": null,
      "grid_auto_rows": null,
      "grid_column": null,
      "grid_gap": null,
      "grid_row": null,
      "grid_template_areas": null,
      "grid_template_columns": null,
      "grid_template_rows": null,
      "height": null,
      "justify_content": null,
      "justify_items": null,
      "left": null,
      "margin": null,
      "max_height": null,
      "max_width": null,
      "min_height": null,
      "min_width": null,
      "object_fit": null,
      "object_position": null,
      "order": null,
      "overflow": null,
      "overflow_x": null,
      "overflow_y": null,
      "padding": null,
      "right": null,
      "top": null,
      "visibility": null,
      "width": null
     }
    },
    "d506f02006a648639ab6619118be8db1": {
     "model_module": "@jupyter-widgets/base",
     "model_name": "LayoutModel",
     "state": {
      "_model_module": "@jupyter-widgets/base",
      "_model_module_version": "1.2.0",
      "_model_name": "LayoutModel",
      "_view_count": null,
      "_view_module": "@jupyter-widgets/base",
      "_view_module_version": "1.2.0",
      "_view_name": "LayoutView",
      "align_content": null,
      "align_items": null,
      "align_self": null,
      "border": null,
      "bottom": null,
      "display": null,
      "flex": null,
      "flex_flow": null,
      "grid_area": null,
      "grid_auto_columns": null,
      "grid_auto_flow": null,
      "grid_auto_rows": null,
      "grid_column": null,
      "grid_gap": null,
      "grid_row": null,
      "grid_template_areas": null,
      "grid_template_columns": null,
      "grid_template_rows": null,
      "height": null,
      "justify_content": null,
      "justify_items": null,
      "left": null,
      "margin": null,
      "max_height": null,
      "max_width": null,
      "min_height": null,
      "min_width": null,
      "object_fit": null,
      "object_position": null,
      "order": null,
      "overflow": null,
      "overflow_x": null,
      "overflow_y": null,
      "padding": null,
      "right": null,
      "top": null,
      "visibility": null,
      "width": null
     }
    },
    "e4d9fd672c704905a9a13c7d930dbad8": {
     "model_module": "@jupyter-widgets/controls",
     "model_name": "DescriptionStyleModel",
     "state": {
      "_model_module": "@jupyter-widgets/controls",
      "_model_module_version": "1.5.0",
      "_model_name": "DescriptionStyleModel",
      "_view_count": null,
      "_view_module": "@jupyter-widgets/base",
      "_view_module_version": "1.2.0",
      "_view_name": "StyleView",
      "description_width": ""
     }
    },
    "e91dacd227004bfbb066cd835e22afd3": {
     "model_module": "@jupyter-widgets/controls",
     "model_name": "HBoxModel",
     "state": {
      "_dom_classes": [],
      "_model_module": "@jupyter-widgets/controls",
      "_model_module_version": "1.5.0",
      "_model_name": "HBoxModel",
      "_view_count": null,
      "_view_module": "@jupyter-widgets/controls",
      "_view_module_version": "1.5.0",
      "_view_name": "HBoxView",
      "box_style": "",
      "children": [
       "IPY_MODEL_0f8ff8022dae4990b1ea432b2e9d3c07",
       "IPY_MODEL_92a04383007146e9b74ad6b15bc80413"
      ],
      "layout": "IPY_MODEL_8560f77e7d414d4ba09d847a451df0e0"
     }
    },
    "f0858d6174ed4af7b49a103e61536b04": {
     "model_module": "@jupyter-widgets/base",
     "model_name": "LayoutModel",
     "state": {
      "_model_module": "@jupyter-widgets/base",
      "_model_module_version": "1.2.0",
      "_model_name": "LayoutModel",
      "_view_count": null,
      "_view_module": "@jupyter-widgets/base",
      "_view_module_version": "1.2.0",
      "_view_name": "LayoutView",
      "align_content": null,
      "align_items": null,
      "align_self": null,
      "border": null,
      "bottom": null,
      "display": null,
      "flex": null,
      "flex_flow": null,
      "grid_area": null,
      "grid_auto_columns": null,
      "grid_auto_flow": null,
      "grid_auto_rows": null,
      "grid_column": null,
      "grid_gap": null,
      "grid_row": null,
      "grid_template_areas": null,
      "grid_template_columns": null,
      "grid_template_rows": null,
      "height": null,
      "justify_content": null,
      "justify_items": null,
      "left": null,
      "margin": null,
      "max_height": null,
      "max_width": null,
      "min_height": null,
      "min_width": null,
      "object_fit": null,
      "object_position": null,
      "order": null,
      "overflow": null,
      "overflow_x": null,
      "overflow_y": null,
      "padding": null,
      "right": null,
      "top": null,
      "visibility": null,
      "width": null
     }
    }
   }
  }
 },
 "nbformat": 4,
 "nbformat_minor": 4
}