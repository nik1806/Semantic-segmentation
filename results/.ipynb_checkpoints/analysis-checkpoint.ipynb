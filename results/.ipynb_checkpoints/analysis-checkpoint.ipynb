{
 "cells": [
  {
   "cell_type": "code",
   "execution_count": 4,
   "metadata": {},
   "outputs": [
    {
     "data": {
      "text/plain": [
       "[]"
      ]
     },
     "execution_count": 4,
     "metadata": {},
     "output_type": "execute_result"
    },
    {
     "data": {
      "image/png": "[encoded data removed]",
      "text/plain": [
       "<Figure size 432x288 with 1 Axes>"
      ]
     },
     "metadata": {
      "needs_background": "light"
     },
     "output_type": "display_data"
    }
   ],
   "source": [
    "import pandas as pd\n",
    "import matplotlib.pyplot as plt\n",
    "\n",
    "df_r = pd.read_csv('T2_eval.csv')\n",
    "\n",
    "summ = df_r.sensitivity+df_r.specificity+df_r.accuracy+df_r.auc+df_r.dice\n",
    "+df_r.iou\n",
    "\n",
    "X = range(1, len(df_r)+1)\n",
    "plt.plot(X, summ, label=\"sum\")\n",
    "plt.plot()"
   ]
  },
  {
   "cell_type": "code",
   "execution_count": 12,
   "metadata": {},
   "outputs": [
    {
     "data": {
      "text/plain": [
       "29"
      ]
     },
     "execution_count": 12,
     "metadata": {},
     "output_type": "execute_result"
    }
   ],
   "source": [
    "summ.idxmax()"
   ]
  },
  {
   "cell_type": "code",
   "execution_count": 14,
   "metadata": {},
   "outputs": [
    {
     "data": {
      "text/plain": [
       "sensitivity    0.867199\n",
       "specificity    0.262958\n",
       "accuracy       0.820509\n",
       "auc            0.719259\n",
       "dice           0.451335\n",
       "iou            0.215358\n",
       "Name: 29, dtype: float64"
      ]
     },
     "execution_count": 14,
     "metadata": {},
     "output_type": "execute_result"
    }
   ],
   "source": [
    "df_r.loc[29]"
   ]
  },
  {
   "cell_type": "code",
   "execution_count": 15,
   "metadata": {},
   "outputs": [],
   "source": [
    "import pandas as pd\n",
    "import matplotlib.pyplot as plt\n",
    "\n",
    "df_t2 = pd.read_csv('T2_eval.csv')\n",
    "df_t3 = pd.read_csv('T3_eval.csv')"
   ]
  },
  {
   "cell_type": "code",
   "execution_count": 16,
   "metadata": {},
   "outputs": [
    {
     "data": {
      "text/plain": [
       "50"
      ]
     },
     "execution_count": 16,
     "metadata": {},
     "output_type": "execute_result"
    }
   ],
   "source": [
    "# init figure object\n",
    "fig = plt.figure(figsize=(10,40))\n",
    "\n",
    "fig.add_subplot(3, 2, 1)\n",
    "plt.plot(range(1, len(df_t2)+1), df_t2.sensitivity, label=\"T2\")\n",
    "plt.plot(range(1, len(df_t3)+1), df_t3.sensitivity, label=\"T3\")\n",
    "plt.xlabel(\"Number of epochs\")\n",
    "plt.ylabel(\"Evaluation metrics score\")\n",
    "plt.legend() # add legend\n",
    "plt.title(\"sensitivity-score\")\n",
    "\n",
    "fig.add_subplot(3, 2, 1)\n",
    "plt.plot(range(1, len(df_t2)+1), df_t2.specificity, label=\"T2\")\n",
    "plt.plot(range(1, len(df_t3)+1), df_t3.specificity, label=\"T3\")\n",
    "plt.xlabel(\"Number of epochs\")\n",
    "plt.ylabel(\"Evaluation metrics score\")\n",
    "plt.legend() # add legend\n",
    "plt.title(\"specificity-score\")\n",
    "\n",
    "fig.add_subplot(3, 2, 1)\n",
    "plt.plot(range(1, len(df_t2)+1), df_t2.accuracy, label=\"T2\")\n",
    "plt.plot(range(1, len(df_t3)+1), df_t3.accuracy, label=\"T3\")\n",
    "plt.xlabel(\"Number of epochs\")\n",
    "plt.ylabel(\"Evaluation metrics score\")\n",
    "plt.legend() # add legend\n",
    "plt.title(\"accuracy-score\")\n",
    "\n",
    "fig.add_subplot(3, 2, 1)\n",
    "plt.plot(range(1, len(df_t2)+1), df_t2.auc, label=\"T2\")\n",
    "plt.plot(range(1, len(df_t3)+1), df_t3.auc, label=\"T3\")\n",
    "plt.xlabel(\"Number of epochs\")\n",
    "plt.ylabel(\"Evaluation metrics score\")\n",
    "plt.legend() # add legend\n",
    "plt.title(\"ROC-AUC score\")\n",
    "\n",
    "fig.add_subplot(3, 2, 1)\n",
    "plt.plot(range(1, len(df_t2)+1), df_t2.dice, label=\"T2\")\n",
    "plt.plot(range(1, len(df_t3)+1), df_t3.dice, label=\"T3\")\n",
    "plt.xlabel(\"Number of epochs\")\n",
    "plt.ylabel(\"Evaluation metrics score\")\n",
    "plt.legend() # add legend\n",
    "plt.title(\"Dice coefficient\")\n",
    "\n",
    "fig.add_subplot(3, 2, 1)\n",
    "plt.plot(range(1, len(df_t2)+1), df_t2.iou, label=\"T2\")\n",
    "plt.plot(range(1, len(df_t3)+1), df_t3.iou, label=\"T3\")\n",
    "plt.xlabel(\"Number of epochs\")\n",
    "plt.ylabel(\"Evaluation metrics score\")\n",
    "plt.legend() # add legend\n",
    "plt.title(\"IOU-Jaccard\")\n",
    "\n",
    "# plt.plot(X, df_r.specificity, label=\"specificity-score\")\n",
    "# plt.plot(X, df_r.accuracy, label=\"accuracy-score\")\n",
    "# plt.plot(X, df_r.auc, label=\"AUC-ROC score\")\n",
    "# plt.plot(X, df_r.dice, label=\"Dice coefficient\")\n",
    "# plt.plot(X, df_r.iou, label=\"IOU-Jaccard\")\n",
    "\n",
    "\n",
    "# plt.savefig('results/T2_3_eval_comp.png', bbox_inches='tight')\n",
    "plt.show()"
   ]
  }
 ],
 "metadata": {
  "kernelspec": {
   "display_name": "Python 3",
   "language": "python",
   "name": "python3"
  },
  "language_info": {
   "codemirror_mode": {
    "name": "ipython",
    "version": 3
   },
   "file_extension": ".py",
   "mimetype": "text/x-python",
   "name": "python",
   "nbconvert_exporter": "python",
   "pygments_lexer": "ipython3",
   "version": "3.8.5"
  }
 },
 "nbformat": 4,
 "nbformat_minor": 4
}
